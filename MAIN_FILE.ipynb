{
 "cells": [
  {
   "cell_type": "code",
   "execution_count": null,
   "id": "d2554aaf-d06a-4f3d-a193-32ac153d5848",
   "metadata": {},
   "outputs": [],
   "source": [
    "# ✅ MAIN.PY\n",
    "import pickle\n",
    "from inges import DataIngestion\n",
    "from Trainer import ModelTrainer\n",
    "from Validator import ModelEvaluation\n",
    "from Logger import Logger\n",
    "import mlflow\n",
    "\n",
    "if __name__ == \"__main__\":\n",
    "    log = Logger()\n",
    "    try:\n",
    "        mlflow.set_tracking_uri(\"http://127.0.0.1:5000\")\n",
    "        mlflow.set_experiment(\"Marital Status Prediction\")\n",
    "\n",
    "        with mlflow.start_run(run_name=\"Main Pipeline\"):\n",
    "            log.info(\"Pipeline started\")\n",
    "\n",
    "            # Data Ingestion\n",
    "            data = DataIngestion(file_path=\"D:/your_path/World_Marriage_Dataset(preprocessed)(oversampling)(with_randomness).csv\")\n",
    "            X_train, X_test, y_train, y_test = data.load_data()\n",
    "            log.info(\"Data ingestion done\")\n",
    "\n",
    "            # Model Training\n",
    "            trainer = ModelTrainer(X_train, y_train)\n",
    "            model = trainer.train_model()\n",
    "            log.info(\"Model training done\")\n",
    "\n",
    "            # Save model\n",
    "            with open(\"DS_Classifier.pkl\", \"wb\") as f:\n",
    "                pickle.dump(model, f)\n",
    "            mlflow.log_artifact(\"DS_Classifier.pkl\")\n",
    "\n",
    "            # Evaluation\n",
    "            evaluator = ModelEvaluation()\n",
    "            metrics = evaluator.evaluate_model(model, X_test, y_test)\n",
    "            log.info(f\"Evaluation Done: {metrics}\")\n",
    "\n",
    "            mlflow.set_tag(\"pipeline_status\", \"SUCCESS\")\n",
    "\n",
    "    except Exception as e:\n",
    "        log.error(str(e))\n",
    "        while mlflow.active_run():\n",
    "            mlflow.end_run(status=\"FAILED\")\n",
    "        raise\n"
   ]
  }
 ],
 "metadata": {
  "kernelspec": {
   "display_name": "Python 3 (ipykernel)",
   "language": "python",
   "name": "python3"
  },
  "language_info": {
   "codemirror_mode": {
    "name": "ipython",
    "version": 3
   },
   "file_extension": ".py",
   "mimetype": "text/x-python",
   "name": "python",
   "nbconvert_exporter": "python",
   "pygments_lexer": "ipython3",
   "version": "3.12.7"
  }
 },
 "nbformat": 4,
 "nbformat_minor": 5
}
