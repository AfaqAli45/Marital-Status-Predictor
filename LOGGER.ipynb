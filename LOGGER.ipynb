{
 "cells": [
  {
   "cell_type": "code",
   "execution_count": null,
   "id": "dc52ac4b-0cca-4c42-a0ca-9c45ba923820",
   "metadata": {},
   "outputs": [],
   "source": [
    "# ✅ LOGGER.PY\n",
    "import logging\n",
    "import os\n",
    "from datetime import datetime\n",
    "\n",
    "class Logger:\n",
    "    def __init__(self, log_dir=\"Logger(log.info)\"):\n",
    "        self.log_file = f\"{datetime.now().strftime('%Y_%m_%d_%H_%M_%S')}.log\"\n",
    "        self.logs_path = os.path.join(os.getcwd(), log_dir)\n",
    "        os.makedirs(self.logs_path, exist_ok=True)\n",
    "        self.log_file_path = os.path.join(self.logs_path, self.log_file)\n",
    "\n",
    "        logging.basicConfig(\n",
    "            filename=self.log_file_path,\n",
    "            format=\"[ %(asctime)s ] %(lineno)d %(name)s - %(levelname)s - %(message)s\",\n",
    "            level=logging.INFO\n",
    "        )\n",
    "\n",
    "    def info(self, message):\n",
    "        print(f\"INFO: {message}\")\n",
    "        logging.info(message)\n",
    "\n",
    "    def error(self, message):\n",
    "        print(f\"ERROR: {message}\")\n",
    "        logging.error(message)\n",
    "\n"
   ]
  }
 ],
 "metadata": {
  "kernelspec": {
   "display_name": "Python 3 (ipykernel)",
   "language": "python",
   "name": "python3"
  },
  "language_info": {
   "codemirror_mode": {
    "name": "ipython",
    "version": 3
   },
   "file_extension": ".py",
   "mimetype": "text/x-python",
   "name": "python",
   "nbconvert_exporter": "python",
   "pygments_lexer": "ipython3",
   "version": "3.12.7"
  }
 },
 "nbformat": 4,
 "nbformat_minor": 5
}
