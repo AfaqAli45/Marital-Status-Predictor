{
 "cells": [
  {
   "cell_type": "code",
   "execution_count": null,
   "id": "2085278e-98d6-49f6-98e9-e4fa14c8ee09",
   "metadata": {},
   "outputs": [],
   "source": [
    "# ✅ TRAINER.PY\n",
    "from sklearn.ensemble import RandomForestClassifier\n",
    "import mlflow\n",
    "import os\n",
    "from dotenv import load_dotenv\n",
    "\n",
    "load_dotenv()\n",
    "\n",
    "class ModelTrainer:\n",
    "    def __init__(self, X_train, y_train):\n",
    "        self.X_train = X_train\n",
    "        self.y_train = y_train\n",
    "        mlflow.set_tracking_uri(os.getenv(\"MLFLOW_TRACKING_URI\", \"http://localhost:5000\"))\n",
    "\n",
    "    def train_model(self):\n",
    "        if mlflow.active_run():\n",
    "            mlflow.end_run()\n",
    "\n",
    "        with mlflow.start_run(run_name=\"Model Training\", nested=True):\n",
    "            params = {\n",
    "                \"n_estimators\": 120,\n",
    "                \"max_depth\": 10,\n",
    "                \"min_samples_split\": 3,\n",
    "                \"random_state\": 42\n",
    "            }\n",
    "\n",
    "            mlflow.log_params(params)\n",
    "\n",
    "            model = RandomForestClassifier(**params)\n",
    "            model.fit(self.X_train, self.y_train)\n",
    "\n",
    "            mlflow.sklearn.log_model(model, \"rf_model\", registered_model_name=\"MaritalStatusPredictor\")\n",
    "            return model\n"
   ]
  }
 ],
 "metadata": {
  "kernelspec": {
   "display_name": "Python 3 (ipykernel)",
   "language": "python",
   "name": "python3"
  },
  "language_info": {
   "codemirror_mode": {
    "name": "ipython",
    "version": 3
   },
   "file_extension": ".py",
   "mimetype": "text/x-python",
   "name": "python",
   "nbconvert_exporter": "python",
   "pygments_lexer": "ipython3",
   "version": "3.12.7"
  }
 },
 "nbformat": 4,
 "nbformat_minor": 5
}
