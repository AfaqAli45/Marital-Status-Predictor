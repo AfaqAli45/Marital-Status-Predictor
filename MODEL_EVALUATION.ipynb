{
 "cells": [
  {
   "cell_type": "code",
   "execution_count": null,
   "id": "0a773462-b5da-4e87-bea9-bf3b13ef8d1a",
   "metadata": {},
   "outputs": [],
   "source": [
    "# ✅ VALIDATOR.PY\n",
    "from sklearn.metrics import accuracy_score, precision_score, recall_score, f1_score, confusion_matrix, classification_report\n",
    "import mlflow\n",
    "\n",
    "class ModelEvaluation:\n",
    "    def __init__(self):\n",
    "        mlflow.set_tracking_uri(os.getenv(\"MLFLOW_TRACKING_URI\", \"http://localhost:5000\"))\n",
    "\n",
    "    def evaluate_model(self, model, X_test, y_test):\n",
    "        if mlflow.active_run():\n",
    "            mlflow.end_run()\n",
    "\n",
    "        with mlflow.start_run(run_name=\"Model Evaluation\", nested=True):\n",
    "            y_pred = model.predict(X_test)\n",
    "\n",
    "            metrics = {\n",
    "                \"accuracy\": accuracy_score(y_test, y_pred),\n",
    "                \"precision\": precision_score(y_test, y_pred, average='macro'),\n",
    "                \"recall\": recall_score(y_test, y_pred, average='macro'),\n",
    "                \"f1_score\": f1_score(y_test, y_pred, average='macro')\n",
    "            }\n",
    "\n",
    "            mlflow.log_metrics(metrics)\n",
    "            mlflow.log_text(str(confusion_matrix(y_test, y_pred)), \"confusion_matrix.txt\")\n",
    "            mlflow.log_text(classification_report(y_test, y_pred), \"classification_report.txt\")\n",
    "\n",
    "            return metrics\n"
   ]
  }
 ],
 "metadata": {
  "kernelspec": {
   "display_name": "Python 3 (ipykernel)",
   "language": "python",
   "name": "python3"
  },
  "language_info": {
   "codemirror_mode": {
    "name": "ipython",
    "version": 3
   },
   "file_extension": ".py",
   "mimetype": "text/x-python",
   "name": "python",
   "nbconvert_exporter": "python",
   "pygments_lexer": "ipython3",
   "version": "3.12.7"
  }
 },
 "nbformat": 4,
 "nbformat_minor": 5
}
